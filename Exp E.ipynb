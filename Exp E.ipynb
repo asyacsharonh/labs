{
 "cells": [
  {
   "cell_type": "markdown",
   "id": "db6e4640",
   "metadata": {},
   "source": []
  },
  {
   "cell_type": "markdown",
   "id": "63370da6",
   "metadata": {},
   "source": [
    "# BRASS"
   ]
  },
  {
   "cell_type": "code",
   "execution_count": null,
   "id": "a704425f",
   "metadata": {},
   "outputs": [],
   "source": [
    "import numpy as np\n",
    "\n",
    "L =      \n",
    "dL = \n",
    "I =\n",
    "dI = \n",
    "K = \n",
    "dK = \n",
    "\n",
    "def G(T):\n",
    "    \"\"\"Calculate G from the period T obtained from gyroscope.\"\"\"\n",
    "    return (4 * np.pi**2 * L * I) / (K * T**2)\n",
    "\n",
    "def delta_G(T, dT):\n",
    "    \"\"\"Calculating uncertainty in G while changing T and dT.\"\"\"\n",
    "    term_L = (4 * np.pi**2 * I / (K * T**2) * dL)**2\n",
    "    term_I = (4 * np.pi**2 * L / (K * T**2) * dI)**2\n",
    "    term_K = (4 * np.pi**2 * L * I / (K**2 * T**2) * dK)**2\n",
    "    term_T = (8 * np.pi**2 * L * I / (K * T**3) * dT)**2\n",
    "    return np.sqrt(term_L + term_I + term_K + term_T)\n",
    "\n",
    "\n",
    "# Replace the T and dT with our values\n",
    "print(f\"G = {G(T):.3e} ± {delta_G(T, dT):.3e}\")\n"
   ]
  }
 ],
 "metadata": {
  "kernelspec": {
   "display_name": "Python 3 (ipykernel)",
   "language": "python",
   "name": "python3"
  },
  "language_info": {
   "codemirror_mode": {
    "name": "ipython",
    "version": 3
   },
   "file_extension": ".py",
   "mimetype": "text/x-python",
   "name": "python",
   "nbconvert_exporter": "python",
   "pygments_lexer": "ipython3",
   "version": "3.9.13"
  }
 },
 "nbformat": 4,
 "nbformat_minor": 5
}
